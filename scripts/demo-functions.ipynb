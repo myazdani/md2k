{
 "cells": [
  {
   "cell_type": "code",
   "execution_count": 1,
   "metadata": {
    "collapsed": false
   },
   "outputs": [
    {
     "name": "stderr",
     "output_type": "stream",
     "text": [
      "Vendor:  Continuum Analytics, Inc.\n",
      "Package: mkl\n",
      "Message: trial mode expires in 26 days\n"
     ]
    }
   ],
   "source": [
    "import pandas as pd\n",
    "import numpy as np\n",
    "import os\n",
    "from sklearn.ensemble import RandomForestClassifier\n",
    "from sklearn.linear_model import LogisticRegression, LogisticRegressionCV\n",
    "import matplotlib.pyplot as plt\n",
    "from sklearn.metrics import roc_auc_score\n",
    "import cPickle as pickle\n",
    "from sklearn.base import BaseEstimator, TransformerMixin\n",
    "from sklearn.model_selection import LeaveOneOut\n",
    "from sklearn.metrics import roc_auc_score\n",
    "%matplotlib inline"
   ]
  },
  {
   "cell_type": "code",
   "execution_count": 2,
   "metadata": {
    "collapsed": false
   },
   "outputs": [],
   "source": [
    "class prepare_MD2K_data(BaseEstimator, TransformerMixin):\n",
    "    '''Prepares features from CSV file and \n",
    "\n",
    "    Parameters\n",
    "    ----------\n",
    "    numeric_features_fields: path to txt file or (TODO) list of numeric feature file names\n",
    "    cat_features_fields: path to txt file or (TODO) list of categorical feature file names\n",
    "    \n",
    "    Attributes\n",
    "    ----------\n",
    "    numeric_feature_field_names: list of numeric column names\n",
    "    cat_feature_field_names: list of categorical column names\n",
    "    \n",
    "    \n",
    "    Examples\n",
    "    --------\n",
    "    '''    \n",
    "    def __init__(self, numeric_features_fields, cat_features_fields):\n",
    "        with open(numeric_features_fields) as file:\n",
    "            self.numeric_feature_field_names = [line.strip() for line in file]\n",
    "        with open(cat_features_fields) as file:\n",
    "            self.cat_feature_field_names = [line.strip() for line in file]\n",
    "            \n",
    "    def _get_time_since(self, activity_indicator):\n",
    "        time_since = [activity_indicator[0]]\n",
    "        for activity in activity_indicator[1:]:\n",
    "            if activity == 1:\n",
    "                time_since.append(1)\n",
    "            elif time_since[-1] == 0:\n",
    "                time_since.append(0)\n",
    "            else:\n",
    "                time_since.append(time_since[-1]+1)\n",
    "        return np.array(time_since)            \n",
    "            \n",
    "    def fit(self, X = None, y = None):        \n",
    "        # load data\n",
    "        df = pd.read_csv(X)\n",
    "        # sort by time index \n",
    "        df.dateTime = pd.to_datetime(df.dateTime)\n",
    "        \n",
    "        # get relevant subset\n",
    "        df_rel = df[self.numeric_feature_field_names+ self.cat_feature_field_names]\n",
    "        \n",
    "                \n",
    "        # deal with categorical features\n",
    "        dfs_list = []\n",
    "        for cat_feature in self.cat_feature_field_names:\n",
    "            dfs_list.append(pd.get_dummies(df_rel[cat_feature]))\n",
    "            df_rel.drop(cat_feature, 1, inplace = True)\n",
    "        dfs_list.append(df_rel)    \n",
    "        df_rel = pd.concat(dfs_list, axis = 1)            \n",
    "        \n",
    "        # compute time since activities\n",
    "        activities = pd.unique(df[\"prediction\"])\n",
    "\n",
    "        for activity in activities:\n",
    "            #df_rel[[\"time.since.\" + str(activity)]] = np.array(self._get_time_since(df_rel[activity].tolist()))\n",
    "            df_rel.loc[:,\"time.since.\" + str(activity)] = np.array(self._get_time_since(df_rel[activity].tolist()))\n",
    "            #df_rel = df_rel.assign(\"time.since.\" + str(activity) = self._get_time_since(df_rel[activity].tolist())\n",
    "            \n",
    "        self.df_features = df_rel\n",
    "       \n",
    "        #return self\n",
    "    \n",
    "    def transform(self, X = None):\n",
    "        return self.df_features"
   ]
  },
  {
   "cell_type": "code",
   "execution_count": 3,
   "metadata": {
    "collapsed": true
   },
   "outputs": [],
   "source": [
    "def get_auc(train_paths, test_path, numeric_features_path = \"numeric_features_fields.txt\",\n",
    "           cat_features_path = \"categorical_features_fields.txt\"):\n",
    "    \n",
    "    #---------------------------------\n",
    "    # instantial MD2K data prep object\n",
    "    #---------------------------------\n",
    "    prep_data = prepare_MD2K_data(numeric_features_fields = numeric_features_path, \n",
    "                              cat_features_fields = cat_features_path)\n",
    "    #---------------------------------\n",
    "    # prep test set\n",
    "    #---------------------------------\n",
    "    # set the target variable from test path and only read 'Eat' column\n",
    "    y_test = np.array(pd.read_csv(test_path,usecols=['Eat']))\n",
    "    #prep_data.fit(test_paths[0])\n",
    "    # \"fit\" and feature engineer the data (eg create time since * variables)\n",
    "    prep_data.fit(test_path)\n",
    "    #X_test_df = prep_data.transform(test_paths[0])\n",
    "    # generate \n",
    "    X_test_df = prep_data.transform(test_path)\n",
    "    X_test_df.fillna(X_test_df.mean(), axis = 'index', inplace=True)\n",
    "    X_test = np.array(X_test_df*1.)\n",
    "    \n",
    "    \n",
    "    X_train_list = []\n",
    "    y_train_list = []\n",
    "    for train_path in train_paths:\n",
    "        prep_data.fit(train_path)\n",
    "        X_train_list.append(prep_data.transform(train_path))\n",
    "        y_train_list.append(np.array(pd.read_csv(train_path, usecols=[\"Eat\"])))\n",
    "        \n",
    "        \n",
    "    y_train = np.vstack(y_train_list)\n",
    "    X_train_df = pd.concat(X_train_list, axis = 0)[X_test_df.columns]\n",
    "    X_train_df.fillna(X_train_df.mean(), axis = 'index', inplace=True)\n",
    "    X_train = np.array(X_train_df*1.)\n",
    "    \n",
    "    clf = LogisticRegressionCV(Cs = np.logspace(-4,9, 3), class_weight= \"balanced\",  n_jobs=-2, scoring = 'roc_auc')\n",
    "    clf.fit(X_train, y_train)\n",
    "    \n",
    "    return roc_auc_score(y_test.squeeze(),clf.predict_proba(X_test)[:,1])"
   ]
  },
  {
   "cell_type": "code",
   "execution_count": 4,
   "metadata": {
    "collapsed": false
   },
   "outputs": [
    {
     "name": "stdout",
     "output_type": "stream",
     "text": [
      "number of files is 9\n"
     ]
    }
   ],
   "source": [
    "src_path = \"../data/Pt5_allVars_20170621/DIAL094/\"\n",
    "\n",
    "file_types = (\".csv\")\n",
    " \n",
    "file_paths = []  \n",
    "for root, dirs, files in os.walk(src_path):\n",
    "    file_paths.extend([os.path.join(root, f) for f in files if f.endswith(file_types)])\n",
    "    \n",
    "print 'number of files is', len(file_paths)"
   ]
  },
  {
   "cell_type": "code",
   "execution_count": 5,
   "metadata": {
    "collapsed": false
   },
   "outputs": [
    {
     "data": {
      "text/plain": [
       "['../data/Pt5_allVars_20170621/DIAL094/DIAL094 2012-12-04.csv',\n",
       " '../data/Pt5_allVars_20170621/DIAL094/DIAL094 2012-12-05.csv',\n",
       " '../data/Pt5_allVars_20170621/DIAL094/DIAL094 2012-12-06.csv',\n",
       " '../data/Pt5_allVars_20170621/DIAL094/DIAL094 2012-12-07.csv',\n",
       " '../data/Pt5_allVars_20170621/DIAL094/DIAL094 2012-12-08.csv',\n",
       " '../data/Pt5_allVars_20170621/DIAL094/DIAL094 2012-12-09.csv',\n",
       " '../data/Pt5_allVars_20170621/DIAL094/DIAL094 2012-12-10.csv',\n",
       " '../data/Pt5_allVars_20170621/DIAL094/DIAL094 2012-12-11.csv',\n",
       " '../data/Pt5_allVars_20170621/DIAL094/DIAL094 2012-12-12.csv']"
      ]
     },
     "execution_count": 5,
     "metadata": {},
     "output_type": "execute_result"
    }
   ],
   "source": [
    "file_paths"
   ]
  },
  {
   "cell_type": "code",
   "execution_count": 6,
   "metadata": {
    "collapsed": false
   },
   "outputs": [],
   "source": [
    "loo = LeaveOneOut()\n",
    "file_paths = np.array(file_paths)\n",
    "for train_index, test_index in loo.split(file_paths):\n",
    "    train_paths, test_paths = file_paths[train_index], file_paths[test_index]"
   ]
  },
  {
   "cell_type": "code",
   "execution_count": null,
   "metadata": {
    "collapsed": false
   },
   "outputs": [],
   "source": [
    "train_paths"
   ]
  },
  {
   "cell_type": "code",
   "execution_count": null,
   "metadata": {
    "collapsed": false
   },
   "outputs": [],
   "source": [
    "test_paths"
   ]
  },
  {
   "cell_type": "code",
   "execution_count": null,
   "metadata": {
    "collapsed": true
   },
   "outputs": [],
   "source": [
    "    prep_data = prepare_MD2K_data(numeric_features_fields = numeric_features_path, \n",
    "                              cat_features_fields = cat_features_path)\n",
    "    \n",
    "    y_test = np.array(pd.read_csv(test_path,usecols=['Eat']))\n",
    "    prep_data.fit(test_paths[0])\n",
    "    X_test_df = prep_data.transform(test_paths[0])\n",
    "    X_test_df.fillna(X_test_df.mean(), axis = 'index', inplace=True)\n",
    "    X_test = np.array(X_test_df*1.)\n",
    "    \n",
    "    \n",
    "    X_train_list = []\n",
    "    y_train_list = []\n",
    "    for train_path in train_paths:\n",
    "        prep_data.fit(train_path)\n",
    "        X_train_list.append(prep_data.transform(train_path))\n",
    "        y_train_list.append(np.array(pd.read_csv(train_path, usecols=[\"Eat\"])))\n",
    "        \n",
    "        \n",
    "    y_train = np.vstack(y_train_list)\n",
    "    X_train_df = pd.concat(X_train_list, axis = 0)[X_test_df.columns]\n",
    "    X_train_df.fillna(X_train_df.mean(), axis = 'index', inplace=True)\n",
    "    X_train = np.array(X_train_df*1.)\n",
    "    \n",
    "    clf = LogisticRegressionCV(Cs = np.logspace(-4,9, 3), class_weight= \"balanced\",  n_jobs=-2, scoring = 'roc_auc')\n",
    "    clf.fit(X_train, y_train)\n",
    "    \n",
    "    return roc_auc_score(y_test.squeeze(),clf.predict_proba(X_test)[:,1])"
   ]
  },
  {
   "cell_type": "code",
   "execution_count": null,
   "metadata": {
    "collapsed": true
   },
   "outputs": [],
   "source": [
    "prep_data = prepare_MD2K_data(numeric_features_fields = \"numeric_features_fields.txt\", \n",
    "                              cat_features_fields = \"categorical_features_fields.txt\")"
   ]
  },
  {
   "cell_type": "code",
   "execution_count": null,
   "metadata": {
    "collapsed": false
   },
   "outputs": [],
   "source": [
    "y_test = np.array(pd.read_csv(test_paths[0],usecols=['Eat']))"
   ]
  },
  {
   "cell_type": "code",
   "execution_count": null,
   "metadata": {
    "collapsed": false
   },
   "outputs": [],
   "source": [
    "prep_data.fit(test_paths[0])"
   ]
  },
  {
   "cell_type": "code",
   "execution_count": null,
   "metadata": {
    "collapsed": true
   },
   "outputs": [],
   "source": [
    "X_test_df = prep_data.transform(test_paths[0])"
   ]
  },
  {
   "cell_type": "code",
   "execution_count": null,
   "metadata": {
    "collapsed": false
   },
   "outputs": [],
   "source": [
    "X_test_df.head()"
   ]
  },
  {
   "cell_type": "code",
   "execution_count": null,
   "metadata": {
    "collapsed": false
   },
   "outputs": [],
   "source": [
    "%%time \n",
    "get_auc(train_paths, test_paths[0], \n",
    "        numeric_features_path=\"numeric_features_fields.txt\",  cat_features_path = \"categorical_features_fields.txt\")"
   ]
  },
  {
   "cell_type": "code",
   "execution_count": null,
   "metadata": {
    "collapsed": true
   },
   "outputs": [],
   "source": []
  }
 ],
 "metadata": {
  "kernelspec": {
   "display_name": "Python 2",
   "language": "python",
   "name": "python2"
  },
  "language_info": {
   "codemirror_mode": {
    "name": "ipython",
    "version": 2
   },
   "file_extension": ".py",
   "mimetype": "text/x-python",
   "name": "python",
   "nbconvert_exporter": "python",
   "pygments_lexer": "ipython2",
   "version": "2.7.12"
  }
 },
 "nbformat": 4,
 "nbformat_minor": 0
}
