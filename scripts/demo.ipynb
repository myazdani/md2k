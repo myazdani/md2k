{
 "cells": [
  {
   "cell_type": "markdown",
   "metadata": {},
   "source": [
    "# Demo using one subject as an example\n",
    "\n",
    "The point of this notebook is to demonstrate using the eat_auc.py python module. \n",
    "\n",
    "Two text files corresponding to the list of numeric and categorical features are recquired for using the function.\n",
    "\n",
    "TODO:\n",
    "* API documentation\n",
    "* pass feature names as lists instead of path to txt file"
   ]
  },
  {
   "cell_type": "code",
   "execution_count": 1,
   "metadata": {
    "collapsed": false
   },
   "outputs": [
    {
     "name": "stderr",
     "output_type": "stream",
     "text": [
      "Vendor:  Continuum Analytics, Inc.\n",
      "Package: mkl\n",
      "Message: trial mode expires in 21 days\n"
     ]
    }
   ],
   "source": [
    "import eat_auc\n",
    "\n",
    "from sklearn.model_selection import LeaveOneOut\n",
    "import numpy as np\n",
    "import os"
   ]
  },
  {
   "cell_type": "code",
   "execution_count": 2,
   "metadata": {
    "collapsed": false
   },
   "outputs": [
    {
     "name": "stdout",
     "output_type": "stream",
     "text": [
      "number of files is 9\n"
     ]
    }
   ],
   "source": [
    "src_path = \"../data/Pt5_allVars_20170621/DIAL094/\"\n",
    "\n",
    "file_types = (\".csv\")\n",
    " \n",
    "file_paths = []  \n",
    "for root, dirs, files in os.walk(src_path):\n",
    "    file_paths.extend([os.path.join(root, f) for f in files if f.endswith(file_types)])\n",
    "    \n",
    "print 'number of files is', len(file_paths)"
   ]
  },
  {
   "cell_type": "code",
   "execution_count": 3,
   "metadata": {
    "collapsed": false
   },
   "outputs": [
    {
     "data": {
      "text/plain": [
       "['../data/Pt5_allVars_20170621/DIAL094/DIAL094 2012-12-04.csv',\n",
       " '../data/Pt5_allVars_20170621/DIAL094/DIAL094 2012-12-05.csv',\n",
       " '../data/Pt5_allVars_20170621/DIAL094/DIAL094 2012-12-06.csv',\n",
       " '../data/Pt5_allVars_20170621/DIAL094/DIAL094 2012-12-07.csv',\n",
       " '../data/Pt5_allVars_20170621/DIAL094/DIAL094 2012-12-08.csv',\n",
       " '../data/Pt5_allVars_20170621/DIAL094/DIAL094 2012-12-09.csv',\n",
       " '../data/Pt5_allVars_20170621/DIAL094/DIAL094 2012-12-10.csv',\n",
       " '../data/Pt5_allVars_20170621/DIAL094/DIAL094 2012-12-11.csv',\n",
       " '../data/Pt5_allVars_20170621/DIAL094/DIAL094 2012-12-12.csv']"
      ]
     },
     "execution_count": 3,
     "metadata": {},
     "output_type": "execute_result"
    }
   ],
   "source": [
    "file_paths"
   ]
  },
  {
   "cell_type": "code",
   "execution_count": 4,
   "metadata": {
    "collapsed": false
   },
   "outputs": [],
   "source": [
    "loo = LeaveOneOut()\n",
    "file_paths = np.array(file_paths)\n",
    "for train_index, test_index in loo.split(file_paths):\n",
    "    train_paths, test_paths = file_paths[train_index], file_paths[test_index]"
   ]
  },
  {
   "cell_type": "markdown",
   "metadata": {},
   "source": [
    "# Vanilla example using Logistic Regression (default model)"
   ]
  },
  {
   "cell_type": "code",
   "execution_count": 5,
   "metadata": {
    "collapsed": false
   },
   "outputs": [
    {
     "name": "stdout",
     "output_type": "stream",
     "text": [
      "CPU times: user 710 ms, sys: 105 ms, total: 816 ms\n",
      "Wall time: 1.7 s\n"
     ]
    },
    {
     "data": {
      "text/plain": [
       "0.64990990990990993"
      ]
     },
     "execution_count": 5,
     "metadata": {},
     "output_type": "execute_result"
    }
   ],
   "source": [
    "%%time \n",
    "eat_auc.get_auc(train_paths, test_paths[0], \n",
    "                numeric_features_path=\"numeric_features_fields.txt\",\n",
    "                cat_features_path = \"categorical_features_fields.txt\")"
   ]
  },
  {
   "cell_type": "markdown",
   "metadata": {},
   "source": [
    "# Example using Random Forests"
   ]
  },
  {
   "cell_type": "code",
   "execution_count": 6,
   "metadata": {
    "collapsed": true
   },
   "outputs": [],
   "source": [
    "from sklearn.ensemble import RandomForestClassifier"
   ]
  },
  {
   "cell_type": "code",
   "execution_count": 7,
   "metadata": {
    "collapsed": false
   },
   "outputs": [
    {
     "name": "stdout",
     "output_type": "stream",
     "text": [
      "CPU times: user 2.61 s, sys: 100 ms, total: 2.71 s\n",
      "Wall time: 1.21 s\n"
     ]
    },
    {
     "data": {
      "text/plain": [
       "0.70189189189189183"
      ]
     },
     "execution_count": 7,
     "metadata": {},
     "output_type": "execute_result"
    }
   ],
   "source": [
    "%%time \n",
    "eat_auc.get_auc(train_paths, test_paths[0], \n",
    "                numeric_features_path=\"numeric_features_fields.txt\", \n",
    "                cat_features_path = \"categorical_features_fields.txt\",\n",
    "                classifier = RandomForestClassifier(n_estimators=100, n_jobs=-2, class_weight=\"balanced\"))"
   ]
  },
  {
   "cell_type": "code",
   "execution_count": null,
   "metadata": {
    "collapsed": true
   },
   "outputs": [],
   "source": []
  }
 ],
 "metadata": {
  "kernelspec": {
   "display_name": "Python 2",
   "language": "python",
   "name": "python2"
  },
  "language_info": {
   "codemirror_mode": {
    "name": "ipython",
    "version": 2
   },
   "file_extension": ".py",
   "mimetype": "text/x-python",
   "name": "python",
   "nbconvert_exporter": "python",
   "pygments_lexer": "ipython2",
   "version": "2.7.12"
  }
 },
 "nbformat": 4,
 "nbformat_minor": 0
}
